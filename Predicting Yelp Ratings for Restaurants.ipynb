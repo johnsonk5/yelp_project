{
 "cells": [
  {
   "cell_type": "markdown",
   "id": "dce4618f",
   "metadata": {},
   "source": [
    "# Predicting Yelp Ratings for Restaurants"
   ]
  },
  {
   "cell_type": "markdown",
   "id": "10bb5c1c",
   "metadata": {},
   "source": [
    "Yelp is a site in which customers can write reviews and rate local businesses. These ratings and reviews are quite important. As [Netwaiter](https://www.netwaiter.net/articles/how-to-manage-your-restaurants-yelp-reviews/#:~:text=Your%20Yelp%20reviews%20and%20ranking%20matter.%20If%20your,Yelp%20reviews%2C%20use%20these%20techniques%20to%20manage%20them.) put it in their article on the topic \"Your Yelp reviews and ranking matter. If your restaurant does not sustain a four-star ranking or higher, you may see a dramatic loss in business.\"\n",
    "\n",
    "In this project, we're going to get data for restaurants from Yelp's API and use them to write an algorithm to predict the Yelp rating for a restaurant. You can read more about the Yelp API [here](https://www.yelp.com/developers/documentation/v3/business_search). "
   ]
  },
  {
   "cell_type": "code",
   "execution_count": 758,
   "id": "84814a6c",
   "metadata": {},
   "outputs": [
    {
     "name": "stdout",
     "output_type": "stream",
     "text": [
      "200\n"
     ]
    }
   ],
   "source": [
    "import requests\n",
    "import json\n",
    "import pandas as pd\n",
    "params = {\"term\":\"food\", \"location\":\"New York City\", \"radius\":40000, \"limit\":50, \"offset\":20}\n",
    "headers = {'Authorization': 'Bearer %s' % 'z0fIanEHB4pXGRy21tlFSTbkYHwoAnUjG_a-Udi1hWVwzAg6R7oajT8rGt5saeLwPmi-2YANkTjaxR8ZUAfjLhr7SM6VyPq0hrFVtDOqG07jNJcyhT5pDHUwMCkQYnYx'}\n",
    "response = requests.get(\"https://api.yelp.com/v3/businesses/search\", params=params, headers = headers)\n",
    "status_code = response.status_code\n",
    "print(status_code)"
   ]
  },
  {
   "cell_type": "markdown",
   "id": "ed8d3d8c",
   "metadata": {},
   "source": [
    "The Yelp API only allows us to take 50 results at a time. However, we can use the offset parameter to change which 50 results we get and, through this method, we can get up to 1000 results. For our analysis, we'll want more than 1000 results so, I'm going to create a function that will take in a location and grab 1000 results associated with the \"food\" search term. \n",
    "\n",
    "Using this function, I'll grab a variety of restaurants from different American cities."
   ]
  },
  {
   "cell_type": "code",
   "execution_count": 759,
   "id": "ae4c00d5",
   "metadata": {},
   "outputs": [],
   "source": [
    "'''\n",
    "The Yelp API only allows us to take 50 results at a time. However, we can use the offset parameter to \n",
    "change which 50 results we get. Here, we'll use a loop to make 20 get requests for a total of 1000 results.\n",
    "'''\n",
    "df = pd.DataFrame()\n",
    "def yelp_api(city, df):\n",
    "    offset = 0\n",
    "    for i in range(0,20):\n",
    "        params = {\"term\":\"food\", \"location\":city, \"radius\":40000, \"limit\":50, \"offset\":offset}\n",
    "        headers = {'Authorization': 'Bearer %s' % 'z0fIanEHB4pXGRy21tlFSTbkYHwoAnUjG_a-Udi1hWVwzAg6R7oajT8rGt5saeLwPmi-2YANkTjaxR8ZUAfjLhr7SM6VyPq0hrFVtDOqG07jNJcyhT5pDHUwMCkQYnYx'}\n",
    "        response = requests.get(\"https://api.yelp.com/v3/businesses/search\", params=params, headers = headers)\n",
    "        data_string = response.json()\n",
    "        temp_df = pd.DataFrame(data_string[\"businesses\"])\n",
    "        df = pd.concat([df, temp_df])\n",
    "        offset += 50\n",
    "    offset = 0\n",
    "    return df\n",
    "\n",
    "# Next, we'll use this function to get data for a variety of different cities.\n",
    "\n",
    "df = yelp_api(\"New York City\", df)\n",
    "\n",
    "df = yelp_api(\"Philadelphia\", df)\n",
    "\n",
    "df = yelp_api(\"Pittsburgh\", df)\n",
    "\n",
    "df = yelp_api(\"Baltimore\", df)\n",
    "\n",
    "df = yelp_api(\"Cleveland\", df)\n",
    "\n",
    "df = yelp_api(\"Miami\", df)\n",
    "\n",
    "df = yelp_api(\"Chicago\", df)\n",
    "\n",
    "df = yelp_api(\"Colombus\", df)\n",
    "\n",
    "df = yelp_api(\"Boston\", df)\n",
    "\n",
    "df = yelp_api(\"Nashville\", df)\n",
    "\n",
    "df = yelp_api(\"Seattle\", df)"
   ]
  },
  {
   "cell_type": "markdown",
   "id": "a29edc16",
   "metadata": {},
   "source": [
    "Now that we've grabbed this data, let's print some results and get a sense of what the data looks like."
   ]
  },
  {
   "cell_type": "code",
   "execution_count": 760,
   "id": "5aa92f58",
   "metadata": {},
   "outputs": [
    {
     "data": {
      "text/html": [
       "<div>\n",
       "<style scoped>\n",
       "    .dataframe tbody tr th:only-of-type {\n",
       "        vertical-align: middle;\n",
       "    }\n",
       "\n",
       "    .dataframe tbody tr th {\n",
       "        vertical-align: top;\n",
       "    }\n",
       "\n",
       "    .dataframe thead th {\n",
       "        text-align: right;\n",
       "    }\n",
       "</style>\n",
       "<table border=\"1\" class=\"dataframe\">\n",
       "  <thead>\n",
       "    <tr style=\"text-align: right;\">\n",
       "      <th></th>\n",
       "      <th>id</th>\n",
       "      <th>alias</th>\n",
       "      <th>name</th>\n",
       "      <th>image_url</th>\n",
       "      <th>is_closed</th>\n",
       "      <th>url</th>\n",
       "      <th>review_count</th>\n",
       "      <th>categories</th>\n",
       "      <th>rating</th>\n",
       "      <th>coordinates</th>\n",
       "      <th>transactions</th>\n",
       "      <th>price</th>\n",
       "      <th>location</th>\n",
       "      <th>phone</th>\n",
       "      <th>display_phone</th>\n",
       "      <th>distance</th>\n",
       "    </tr>\n",
       "  </thead>\n",
       "  <tbody>\n",
       "    <tr>\n",
       "      <th>0</th>\n",
       "      <td>qEe7nIhPfEL6L0-VYhWRrA</td>\n",
       "      <td>raku-new-york-6</td>\n",
       "      <td>Raku</td>\n",
       "      <td>https://s3-media1.fl.yelpcdn.com/bphoto/EQsQlL...</td>\n",
       "      <td>False</td>\n",
       "      <td>https://www.yelp.com/biz/raku-new-york-6?adjus...</td>\n",
       "      <td>615</td>\n",
       "      <td>[{'alias': 'japanese', 'title': 'Japanese'}, {...</td>\n",
       "      <td>4.5</td>\n",
       "      <td>{'latitude': 40.72728, 'longitude': -74.00252}</td>\n",
       "      <td>[delivery, pickup]</td>\n",
       "      <td>$$</td>\n",
       "      <td>{'address1': '48 Macdougal St', 'address2': No...</td>\n",
       "      <td>+12129894797</td>\n",
       "      <td>(212) 989-4797</td>\n",
       "      <td>2522.267046</td>\n",
       "    </tr>\n",
       "    <tr>\n",
       "      <th>1</th>\n",
       "      <td>7YYp_2WYWdRSt_NohV7Psw</td>\n",
       "      <td>casa-birria-nyc-new-york</td>\n",
       "      <td>Casa Birria NYC</td>\n",
       "      <td>https://s3-media3.fl.yelpcdn.com/bphoto/koyMTX...</td>\n",
       "      <td>False</td>\n",
       "      <td>https://www.yelp.com/biz/casa-birria-nyc-new-y...</td>\n",
       "      <td>62</td>\n",
       "      <td>[{'alias': 'foodtrucks', 'title': 'Food Trucks...</td>\n",
       "      <td>5.0</td>\n",
       "      <td>{'latitude': 40.778824, 'longitude': -73.953986}</td>\n",
       "      <td>[delivery]</td>\n",
       "      <td>$</td>\n",
       "      <td>{'address1': '86th &amp; 3rd Ave', 'address2': '',...</td>\n",
       "      <td>+16468682090</td>\n",
       "      <td>(646) 868-2090</td>\n",
       "      <td>8837.339832</td>\n",
       "    </tr>\n",
       "    <tr>\n",
       "      <th>2</th>\n",
       "      <td>FM3oBtsMdVZnb_ttxB9xmg</td>\n",
       "      <td>laojie-hotpot-brooklyn-6</td>\n",
       "      <td>LaoJie hotpot</td>\n",
       "      <td>https://s3-media1.fl.yelpcdn.com/bphoto/dhFEap...</td>\n",
       "      <td>False</td>\n",
       "      <td>https://www.yelp.com/biz/laojie-hotpot-brookly...</td>\n",
       "      <td>77</td>\n",
       "      <td>[{'alias': 'hotpot', 'title': 'Hot Pot'}, {'al...</td>\n",
       "      <td>4.5</td>\n",
       "      <td>{'latitude': 40.60012, 'longitude': -73.99135}</td>\n",
       "      <td>[]</td>\n",
       "      <td>$$</td>\n",
       "      <td>{'address1': '2314 86th St', 'address2': '', '...</td>\n",
       "      <td>+17188879887</td>\n",
       "      <td>(718) 887-9887</td>\n",
       "      <td>11716.253609</td>\n",
       "    </tr>\n",
       "    <tr>\n",
       "      <th>3</th>\n",
       "      <td>qVlDLz8Ri-ThAFJgYHuQ9A</td>\n",
       "      <td>omusubi-gonbei-new-york-3</td>\n",
       "      <td>Omusubi Gonbei</td>\n",
       "      <td>https://s3-media1.fl.yelpcdn.com/bphoto/2MxgyQ...</td>\n",
       "      <td>False</td>\n",
       "      <td>https://www.yelp.com/biz/omusubi-gonbei-new-yo...</td>\n",
       "      <td>73</td>\n",
       "      <td>[{'alias': 'japanese', 'title': 'Japanese'}, {...</td>\n",
       "      <td>4.5</td>\n",
       "      <td>{'latitude': 40.750701, 'longitude': -73.976961}</td>\n",
       "      <td>[delivery]</td>\n",
       "      <td>$</td>\n",
       "      <td>{'address1': '370 Lexington Ave', 'address2': ...</td>\n",
       "      <td>+19174727168</td>\n",
       "      <td>(917) 472-7168</td>\n",
       "      <td>5244.026713</td>\n",
       "    </tr>\n",
       "    <tr>\n",
       "      <th>4</th>\n",
       "      <td>MGd6HFEq1ALD58XWNviSXw</td>\n",
       "      <td>time-out-market-new-york-brooklyn</td>\n",
       "      <td>Time Out Market New York</td>\n",
       "      <td>https://s3-media1.fl.yelpcdn.com/bphoto/4oRxGW...</td>\n",
       "      <td>False</td>\n",
       "      <td>https://www.yelp.com/biz/time-out-market-new-y...</td>\n",
       "      <td>327</td>\n",
       "      <td>[{'alias': 'food_court', 'title': 'Food Court'}]</td>\n",
       "      <td>3.5</td>\n",
       "      <td>{'latitude': 40.70342863348067, 'longitude': -...</td>\n",
       "      <td>[]</td>\n",
       "      <td>$$</td>\n",
       "      <td>{'address1': '55 Water St', 'address2': '', 'a...</td>\n",
       "      <td>+19178104855</td>\n",
       "      <td>(917) 810-4855</td>\n",
       "      <td>288.119008</td>\n",
       "    </tr>\n",
       "  </tbody>\n",
       "</table>\n",
       "</div>"
      ],
      "text/plain": [
       "                       id                              alias  \\\n",
       "0  qEe7nIhPfEL6L0-VYhWRrA                    raku-new-york-6   \n",
       "1  7YYp_2WYWdRSt_NohV7Psw           casa-birria-nyc-new-york   \n",
       "2  FM3oBtsMdVZnb_ttxB9xmg           laojie-hotpot-brooklyn-6   \n",
       "3  qVlDLz8Ri-ThAFJgYHuQ9A          omusubi-gonbei-new-york-3   \n",
       "4  MGd6HFEq1ALD58XWNviSXw  time-out-market-new-york-brooklyn   \n",
       "\n",
       "                       name  \\\n",
       "0                      Raku   \n",
       "1           Casa Birria NYC   \n",
       "2             LaoJie hotpot   \n",
       "3            Omusubi Gonbei   \n",
       "4  Time Out Market New York   \n",
       "\n",
       "                                           image_url  is_closed  \\\n",
       "0  https://s3-media1.fl.yelpcdn.com/bphoto/EQsQlL...      False   \n",
       "1  https://s3-media3.fl.yelpcdn.com/bphoto/koyMTX...      False   \n",
       "2  https://s3-media1.fl.yelpcdn.com/bphoto/dhFEap...      False   \n",
       "3  https://s3-media1.fl.yelpcdn.com/bphoto/2MxgyQ...      False   \n",
       "4  https://s3-media1.fl.yelpcdn.com/bphoto/4oRxGW...      False   \n",
       "\n",
       "                                                 url  review_count  \\\n",
       "0  https://www.yelp.com/biz/raku-new-york-6?adjus...           615   \n",
       "1  https://www.yelp.com/biz/casa-birria-nyc-new-y...            62   \n",
       "2  https://www.yelp.com/biz/laojie-hotpot-brookly...            77   \n",
       "3  https://www.yelp.com/biz/omusubi-gonbei-new-yo...            73   \n",
       "4  https://www.yelp.com/biz/time-out-market-new-y...           327   \n",
       "\n",
       "                                          categories  rating  \\\n",
       "0  [{'alias': 'japanese', 'title': 'Japanese'}, {...     4.5   \n",
       "1  [{'alias': 'foodtrucks', 'title': 'Food Trucks...     5.0   \n",
       "2  [{'alias': 'hotpot', 'title': 'Hot Pot'}, {'al...     4.5   \n",
       "3  [{'alias': 'japanese', 'title': 'Japanese'}, {...     4.5   \n",
       "4   [{'alias': 'food_court', 'title': 'Food Court'}]     3.5   \n",
       "\n",
       "                                         coordinates        transactions  \\\n",
       "0     {'latitude': 40.72728, 'longitude': -74.00252}  [delivery, pickup]   \n",
       "1   {'latitude': 40.778824, 'longitude': -73.953986}          [delivery]   \n",
       "2     {'latitude': 40.60012, 'longitude': -73.99135}                  []   \n",
       "3   {'latitude': 40.750701, 'longitude': -73.976961}          [delivery]   \n",
       "4  {'latitude': 40.70342863348067, 'longitude': -...                  []   \n",
       "\n",
       "  price                                           location         phone  \\\n",
       "0    $$  {'address1': '48 Macdougal St', 'address2': No...  +12129894797   \n",
       "1     $  {'address1': '86th & 3rd Ave', 'address2': '',...  +16468682090   \n",
       "2    $$  {'address1': '2314 86th St', 'address2': '', '...  +17188879887   \n",
       "3     $  {'address1': '370 Lexington Ave', 'address2': ...  +19174727168   \n",
       "4    $$  {'address1': '55 Water St', 'address2': '', 'a...  +19178104855   \n",
       "\n",
       "    display_phone      distance  \n",
       "0  (212) 989-4797   2522.267046  \n",
       "1  (646) 868-2090   8837.339832  \n",
       "2  (718) 887-9887  11716.253609  \n",
       "3  (917) 472-7168   5244.026713  \n",
       "4  (917) 810-4855    288.119008  "
      ]
     },
     "execution_count": 760,
     "metadata": {},
     "output_type": "execute_result"
    }
   ],
   "source": [
    "df.head()"
   ]
  },
  {
   "cell_type": "markdown",
   "id": "5c031927",
   "metadata": {},
   "source": [
    "## Cleaning the Data"
   ]
  },
  {
   "cell_type": "markdown",
   "id": "922c670c",
   "metadata": {},
   "source": [
    "The columns for this dataset are as follows:\n",
    "\n",
    "* `id` - a random id associated with each business.\n",
    "* `alias` - a unique name given to each business.\n",
    "* `name` - the name of the restaurant.\n",
    "* `image_url` - a link to the logo of the restaurant.\n",
    "* `is_closed` - a boolean value that indicates whether or not the business is closed at the moment.\n",
    "* `url` - a link to the Yelp page for the business.\n",
    "* `review_count` - the number of customer reviews for this business.\n",
    "* `categories` - dictionaries containing descriptors of the business (i.e. what kind of food do they sell?)\n",
    "* `rating` - Average rating for the business.\n",
    "* `coordinates` - dictionaries containing latitude and longitude. \n",
    "* `transactions` - does the business offer pickup, delivery or reservations?\n",
    "* `price` - prices are indicated using dollar signs, more dollar signs means the business is more expensive.\n",
    "* `location` - address for the business.\n",
    "* `phone` - phone number for the location.\n",
    "* `display_phone` - phone number written in a more readable fashion.\n",
    "* `distance` - distance from the location searched for in the API.\n",
    "\n",
    "Not all of these columns will contain useful information for this analysis, so we'll get rid of some of these columns now."
   ]
  },
  {
   "cell_type": "code",
   "execution_count": 761,
   "id": "89336ae4",
   "metadata": {},
   "outputs": [
    {
     "data": {
      "text/html": [
       "<div>\n",
       "<style scoped>\n",
       "    .dataframe tbody tr th:only-of-type {\n",
       "        vertical-align: middle;\n",
       "    }\n",
       "\n",
       "    .dataframe tbody tr th {\n",
       "        vertical-align: top;\n",
       "    }\n",
       "\n",
       "    .dataframe thead th {\n",
       "        text-align: right;\n",
       "    }\n",
       "</style>\n",
       "<table border=\"1\" class=\"dataframe\">\n",
       "  <thead>\n",
       "    <tr style=\"text-align: right;\">\n",
       "      <th></th>\n",
       "      <th>name</th>\n",
       "      <th>review_count</th>\n",
       "      <th>categories</th>\n",
       "      <th>rating</th>\n",
       "      <th>coordinates</th>\n",
       "      <th>transactions</th>\n",
       "      <th>price</th>\n",
       "      <th>location</th>\n",
       "      <th>distance</th>\n",
       "    </tr>\n",
       "  </thead>\n",
       "  <tbody>\n",
       "    <tr>\n",
       "      <th>0</th>\n",
       "      <td>Raku</td>\n",
       "      <td>615</td>\n",
       "      <td>[{'alias': 'japanese', 'title': 'Japanese'}, {...</td>\n",
       "      <td>4.5</td>\n",
       "      <td>{'latitude': 40.72728, 'longitude': -74.00252}</td>\n",
       "      <td>[delivery, pickup]</td>\n",
       "      <td>$$</td>\n",
       "      <td>{'address1': '48 Macdougal St', 'address2': No...</td>\n",
       "      <td>2522.267046</td>\n",
       "    </tr>\n",
       "    <tr>\n",
       "      <th>1</th>\n",
       "      <td>Casa Birria NYC</td>\n",
       "      <td>62</td>\n",
       "      <td>[{'alias': 'foodtrucks', 'title': 'Food Trucks...</td>\n",
       "      <td>5.0</td>\n",
       "      <td>{'latitude': 40.778824, 'longitude': -73.953986}</td>\n",
       "      <td>[delivery]</td>\n",
       "      <td>$</td>\n",
       "      <td>{'address1': '86th &amp; 3rd Ave', 'address2': '',...</td>\n",
       "      <td>8837.339832</td>\n",
       "    </tr>\n",
       "    <tr>\n",
       "      <th>2</th>\n",
       "      <td>LaoJie hotpot</td>\n",
       "      <td>77</td>\n",
       "      <td>[{'alias': 'hotpot', 'title': 'Hot Pot'}, {'al...</td>\n",
       "      <td>4.5</td>\n",
       "      <td>{'latitude': 40.60012, 'longitude': -73.99135}</td>\n",
       "      <td>[]</td>\n",
       "      <td>$$</td>\n",
       "      <td>{'address1': '2314 86th St', 'address2': '', '...</td>\n",
       "      <td>11716.253609</td>\n",
       "    </tr>\n",
       "    <tr>\n",
       "      <th>3</th>\n",
       "      <td>Omusubi Gonbei</td>\n",
       "      <td>73</td>\n",
       "      <td>[{'alias': 'japanese', 'title': 'Japanese'}, {...</td>\n",
       "      <td>4.5</td>\n",
       "      <td>{'latitude': 40.750701, 'longitude': -73.976961}</td>\n",
       "      <td>[delivery]</td>\n",
       "      <td>$</td>\n",
       "      <td>{'address1': '370 Lexington Ave', 'address2': ...</td>\n",
       "      <td>5244.026713</td>\n",
       "    </tr>\n",
       "    <tr>\n",
       "      <th>4</th>\n",
       "      <td>Time Out Market New York</td>\n",
       "      <td>327</td>\n",
       "      <td>[{'alias': 'food_court', 'title': 'Food Court'}]</td>\n",
       "      <td>3.5</td>\n",
       "      <td>{'latitude': 40.70342863348067, 'longitude': -...</td>\n",
       "      <td>[]</td>\n",
       "      <td>$$</td>\n",
       "      <td>{'address1': '55 Water St', 'address2': '', 'a...</td>\n",
       "      <td>288.119008</td>\n",
       "    </tr>\n",
       "  </tbody>\n",
       "</table>\n",
       "</div>"
      ],
      "text/plain": [
       "                       name  review_count  \\\n",
       "0                      Raku           615   \n",
       "1           Casa Birria NYC            62   \n",
       "2             LaoJie hotpot            77   \n",
       "3            Omusubi Gonbei            73   \n",
       "4  Time Out Market New York           327   \n",
       "\n",
       "                                          categories  rating  \\\n",
       "0  [{'alias': 'japanese', 'title': 'Japanese'}, {...     4.5   \n",
       "1  [{'alias': 'foodtrucks', 'title': 'Food Trucks...     5.0   \n",
       "2  [{'alias': 'hotpot', 'title': 'Hot Pot'}, {'al...     4.5   \n",
       "3  [{'alias': 'japanese', 'title': 'Japanese'}, {...     4.5   \n",
       "4   [{'alias': 'food_court', 'title': 'Food Court'}]     3.5   \n",
       "\n",
       "                                         coordinates        transactions  \\\n",
       "0     {'latitude': 40.72728, 'longitude': -74.00252}  [delivery, pickup]   \n",
       "1   {'latitude': 40.778824, 'longitude': -73.953986}          [delivery]   \n",
       "2     {'latitude': 40.60012, 'longitude': -73.99135}                  []   \n",
       "3   {'latitude': 40.750701, 'longitude': -73.976961}          [delivery]   \n",
       "4  {'latitude': 40.70342863348067, 'longitude': -...                  []   \n",
       "\n",
       "  price                                           location      distance  \n",
       "0    $$  {'address1': '48 Macdougal St', 'address2': No...   2522.267046  \n",
       "1     $  {'address1': '86th & 3rd Ave', 'address2': '',...   8837.339832  \n",
       "2    $$  {'address1': '2314 86th St', 'address2': '', '...  11716.253609  \n",
       "3     $  {'address1': '370 Lexington Ave', 'address2': ...   5244.026713  \n",
       "4    $$  {'address1': '55 Water St', 'address2': '', 'a...    288.119008  "
      ]
     },
     "execution_count": 761,
     "metadata": {},
     "output_type": "execute_result"
    }
   ],
   "source": [
    "yelp_df = df.drop([\"id\", \"alias\", \"image_url\", \"is_closed\", \"url\", \"phone\", \"display_phone\"], axis=1)\n",
    "yelp_df.head()"
   ]
  },
  {
   "cell_type": "markdown",
   "id": "7bbcd330",
   "metadata": {},
   "source": [
    "One of the columns that could be very useful for our purposes is the `categories` column, which tells us what kind of food each restaurant is. Let's take a look at some of the values contained in this column:"
   ]
  },
  {
   "cell_type": "code",
   "execution_count": 762,
   "id": "0a91a367",
   "metadata": {},
   "outputs": [
    {
     "data": {
      "text/plain": [
       "0    [{'alias': 'japanese', 'title': 'Japanese'}, {...\n",
       "1    [{'alias': 'foodtrucks', 'title': 'Food Trucks...\n",
       "2    [{'alias': 'hotpot', 'title': 'Hot Pot'}, {'al...\n",
       "3    [{'alias': 'japanese', 'title': 'Japanese'}, {...\n",
       "4     [{'alias': 'food_court', 'title': 'Food Court'}]\n",
       "Name: categories, dtype: object"
      ]
     },
     "execution_count": 762,
     "metadata": {},
     "output_type": "execute_result"
    }
   ],
   "source": [
    "yelp_df[\"categories\"].head()"
   ]
  },
  {
   "cell_type": "markdown",
   "id": "8225e652",
   "metadata": {},
   "source": [
    "This column contains dictionaries with two keys, the `alias` key and the `title` key. The alias contains largely the same information as the title so, for our purposes we'll only use the title key. \n",
    "\n",
    "Each row could contain anywhere between 1 and 3 dictionaries, because certain restaurants may fit into more than one category.\n",
    "\n",
    "In order to use this column, we're going to need to clean it up a bit first."
   ]
  },
  {
   "cell_type": "code",
   "execution_count": 763,
   "id": "b53c9b33",
   "metadata": {},
   "outputs": [
    {
     "data": {
      "text/html": [
       "<div>\n",
       "<style scoped>\n",
       "    .dataframe tbody tr th:only-of-type {\n",
       "        vertical-align: middle;\n",
       "    }\n",
       "\n",
       "    .dataframe tbody tr th {\n",
       "        vertical-align: top;\n",
       "    }\n",
       "\n",
       "    .dataframe thead th {\n",
       "        text-align: right;\n",
       "    }\n",
       "</style>\n",
       "<table border=\"1\" class=\"dataframe\">\n",
       "  <thead>\n",
       "    <tr style=\"text-align: right;\">\n",
       "      <th></th>\n",
       "      <th>0</th>\n",
       "      <th>1</th>\n",
       "      <th>2</th>\n",
       "    </tr>\n",
       "  </thead>\n",
       "  <tbody>\n",
       "    <tr>\n",
       "      <th>0</th>\n",
       "      <td>{'alias': 'japanese', 'title': 'Japanese'}</td>\n",
       "      <td>{'alias': 'noodles', 'title': 'Noodles'}</td>\n",
       "      <td>NaN</td>\n",
       "    </tr>\n",
       "    <tr>\n",
       "      <th>1</th>\n",
       "      <td>{'alias': 'foodtrucks', 'title': 'Food Trucks'}</td>\n",
       "      <td>{'alias': 'tacos', 'title': 'Tacos'}</td>\n",
       "      <td>NaN</td>\n",
       "    </tr>\n",
       "    <tr>\n",
       "      <th>2</th>\n",
       "      <td>{'alias': 'hotpot', 'title': 'Hot Pot'}</td>\n",
       "      <td>{'alias': 'bbq', 'title': 'Barbeque'}</td>\n",
       "      <td>NaN</td>\n",
       "    </tr>\n",
       "    <tr>\n",
       "      <th>3</th>\n",
       "      <td>{'alias': 'japanese', 'title': 'Japanese'}</td>\n",
       "      <td>{'alias': 'foodstands', 'title': 'Food Stands'}</td>\n",
       "      <td>NaN</td>\n",
       "    </tr>\n",
       "    <tr>\n",
       "      <th>4</th>\n",
       "      <td>{'alias': 'food_court', 'title': 'Food Court'}</td>\n",
       "      <td>NaN</td>\n",
       "      <td>NaN</td>\n",
       "    </tr>\n",
       "  </tbody>\n",
       "</table>\n",
       "</div>"
      ],
      "text/plain": [
       "                                                 0  \\\n",
       "0       {'alias': 'japanese', 'title': 'Japanese'}   \n",
       "1  {'alias': 'foodtrucks', 'title': 'Food Trucks'}   \n",
       "2          {'alias': 'hotpot', 'title': 'Hot Pot'}   \n",
       "3       {'alias': 'japanese', 'title': 'Japanese'}   \n",
       "4   {'alias': 'food_court', 'title': 'Food Court'}   \n",
       "\n",
       "                                                 1    2  \n",
       "0         {'alias': 'noodles', 'title': 'Noodles'}  NaN  \n",
       "1             {'alias': 'tacos', 'title': 'Tacos'}  NaN  \n",
       "2            {'alias': 'bbq', 'title': 'Barbeque'}  NaN  \n",
       "3  {'alias': 'foodstands', 'title': 'Food Stands'}  NaN  \n",
       "4                                              NaN  NaN  "
      ]
     },
     "execution_count": 763,
     "metadata": {},
     "output_type": "execute_result"
    }
   ],
   "source": [
    "# We'll create three seperate columns for the categories.\n",
    "df_expanded = df[\"categories\"].apply(pd.Series)\n",
    "df_expanded.head()"
   ]
  },
  {
   "cell_type": "markdown",
   "id": "9175a541",
   "metadata": {},
   "source": [
    "Next, we'll split each of these individual columns into the `alias` column and the `title` column, then we'll drop the alias column so we don't have redundant information (since most of the `alias` values are the same as the `title` values)."
   ]
  },
  {
   "cell_type": "code",
   "execution_count": 764,
   "id": "6ec53555",
   "metadata": {},
   "outputs": [],
   "source": [
    "for i in range(0,3):\n",
    "    df_expanded = pd.concat([df_expanded[i].apply(pd.Series), df_expanded], axis=1)\n",
    "    df_expanded = df_expanded.drop(i, axis=1)\n",
    "    df_expanded = df_expanded.drop(\"alias\", axis=1)\n",
    "    df_expanded = df_expanded.rename(columns = {\"title\":\"category_\" + str(i+1)})\n",
    "\n",
    "# Drop the remaining 0 column and reorder the columns in numerical order.\n",
    "df_expanded = df_expanded.drop(0,axis=1)\n",
    "df_expanded = df_expanded.reindex(columns=['category_1', 'category_2', 'category_3'])"
   ]
  },
  {
   "cell_type": "markdown",
   "id": "74a038b4",
   "metadata": {},
   "source": [
    "Now that we've cleaned up our category columns, we'll reintroduce those columns back into the dataframe and drop the categories column."
   ]
  },
  {
   "cell_type": "code",
   "execution_count": 765,
   "id": "6c26a9fc",
   "metadata": {},
   "outputs": [
    {
     "data": {
      "text/html": [
       "<div>\n",
       "<style scoped>\n",
       "    .dataframe tbody tr th:only-of-type {\n",
       "        vertical-align: middle;\n",
       "    }\n",
       "\n",
       "    .dataframe tbody tr th {\n",
       "        vertical-align: top;\n",
       "    }\n",
       "\n",
       "    .dataframe thead th {\n",
       "        text-align: right;\n",
       "    }\n",
       "</style>\n",
       "<table border=\"1\" class=\"dataframe\">\n",
       "  <thead>\n",
       "    <tr style=\"text-align: right;\">\n",
       "      <th></th>\n",
       "      <th>name</th>\n",
       "      <th>review_count</th>\n",
       "      <th>rating</th>\n",
       "      <th>coordinates</th>\n",
       "      <th>transactions</th>\n",
       "      <th>price</th>\n",
       "      <th>location</th>\n",
       "      <th>distance</th>\n",
       "      <th>category_1</th>\n",
       "      <th>category_2</th>\n",
       "      <th>category_3</th>\n",
       "    </tr>\n",
       "  </thead>\n",
       "  <tbody>\n",
       "    <tr>\n",
       "      <th>0</th>\n",
       "      <td>Raku</td>\n",
       "      <td>615</td>\n",
       "      <td>4.5</td>\n",
       "      <td>{'latitude': 40.72728, 'longitude': -74.00252}</td>\n",
       "      <td>[delivery, pickup]</td>\n",
       "      <td>$$</td>\n",
       "      <td>{'address1': '48 Macdougal St', 'address2': No...</td>\n",
       "      <td>2522.267046</td>\n",
       "      <td>Japanese</td>\n",
       "      <td>Noodles</td>\n",
       "      <td>NaN</td>\n",
       "    </tr>\n",
       "    <tr>\n",
       "      <th>1</th>\n",
       "      <td>Casa Birria NYC</td>\n",
       "      <td>62</td>\n",
       "      <td>5.0</td>\n",
       "      <td>{'latitude': 40.778824, 'longitude': -73.953986}</td>\n",
       "      <td>[delivery]</td>\n",
       "      <td>$</td>\n",
       "      <td>{'address1': '86th &amp; 3rd Ave', 'address2': '',...</td>\n",
       "      <td>8837.339832</td>\n",
       "      <td>Food Trucks</td>\n",
       "      <td>Tacos</td>\n",
       "      <td>NaN</td>\n",
       "    </tr>\n",
       "    <tr>\n",
       "      <th>2</th>\n",
       "      <td>LaoJie hotpot</td>\n",
       "      <td>77</td>\n",
       "      <td>4.5</td>\n",
       "      <td>{'latitude': 40.60012, 'longitude': -73.99135}</td>\n",
       "      <td>[]</td>\n",
       "      <td>$$</td>\n",
       "      <td>{'address1': '2314 86th St', 'address2': '', '...</td>\n",
       "      <td>11716.253609</td>\n",
       "      <td>Hot Pot</td>\n",
       "      <td>Barbeque</td>\n",
       "      <td>NaN</td>\n",
       "    </tr>\n",
       "    <tr>\n",
       "      <th>3</th>\n",
       "      <td>Omusubi Gonbei</td>\n",
       "      <td>73</td>\n",
       "      <td>4.5</td>\n",
       "      <td>{'latitude': 40.750701, 'longitude': -73.976961}</td>\n",
       "      <td>[delivery]</td>\n",
       "      <td>$</td>\n",
       "      <td>{'address1': '370 Lexington Ave', 'address2': ...</td>\n",
       "      <td>5244.026713</td>\n",
       "      <td>Japanese</td>\n",
       "      <td>Food Stands</td>\n",
       "      <td>NaN</td>\n",
       "    </tr>\n",
       "    <tr>\n",
       "      <th>4</th>\n",
       "      <td>Time Out Market New York</td>\n",
       "      <td>327</td>\n",
       "      <td>3.5</td>\n",
       "      <td>{'latitude': 40.70342863348067, 'longitude': -...</td>\n",
       "      <td>[]</td>\n",
       "      <td>$$</td>\n",
       "      <td>{'address1': '55 Water St', 'address2': '', 'a...</td>\n",
       "      <td>288.119008</td>\n",
       "      <td>Food Court</td>\n",
       "      <td>NaN</td>\n",
       "      <td>NaN</td>\n",
       "    </tr>\n",
       "  </tbody>\n",
       "</table>\n",
       "</div>"
      ],
      "text/plain": [
       "                       name  review_count  rating  \\\n",
       "0                      Raku           615     4.5   \n",
       "1           Casa Birria NYC            62     5.0   \n",
       "2             LaoJie hotpot            77     4.5   \n",
       "3            Omusubi Gonbei            73     4.5   \n",
       "4  Time Out Market New York           327     3.5   \n",
       "\n",
       "                                         coordinates        transactions  \\\n",
       "0     {'latitude': 40.72728, 'longitude': -74.00252}  [delivery, pickup]   \n",
       "1   {'latitude': 40.778824, 'longitude': -73.953986}          [delivery]   \n",
       "2     {'latitude': 40.60012, 'longitude': -73.99135}                  []   \n",
       "3   {'latitude': 40.750701, 'longitude': -73.976961}          [delivery]   \n",
       "4  {'latitude': 40.70342863348067, 'longitude': -...                  []   \n",
       "\n",
       "  price                                           location      distance  \\\n",
       "0    $$  {'address1': '48 Macdougal St', 'address2': No...   2522.267046   \n",
       "1     $  {'address1': '86th & 3rd Ave', 'address2': '',...   8837.339832   \n",
       "2    $$  {'address1': '2314 86th St', 'address2': '', '...  11716.253609   \n",
       "3     $  {'address1': '370 Lexington Ave', 'address2': ...   5244.026713   \n",
       "4    $$  {'address1': '55 Water St', 'address2': '', 'a...    288.119008   \n",
       "\n",
       "    category_1   category_2 category_3  \n",
       "0     Japanese      Noodles        NaN  \n",
       "1  Food Trucks        Tacos        NaN  \n",
       "2      Hot Pot     Barbeque        NaN  \n",
       "3     Japanese  Food Stands        NaN  \n",
       "4   Food Court          NaN        NaN  "
      ]
     },
     "execution_count": 765,
     "metadata": {},
     "output_type": "execute_result"
    }
   ],
   "source": [
    "yelp_with_categories=pd.concat([yelp_df, df_expanded], axis=1)\n",
    "yelp_with_categories = yelp_with_categories.drop(\"categories\", axis=1)\n",
    "yelp_with_categories.head()"
   ]
  },
  {
   "cell_type": "markdown",
   "id": "d030d0d0",
   "metadata": {},
   "source": [
    "Next, we'll turn our attention to the columns that tell us the location of the business. There are three columns that give us this information. \n",
    "\n",
    "The `location` column tells us the address of the business. This column will be too difficult for us to use since the algorithm won't be able to identify the significance of different streets and their relation to one another. Let's drop this column first."
   ]
  },
  {
   "cell_type": "code",
   "execution_count": 766,
   "id": "83db21c8",
   "metadata": {},
   "outputs": [],
   "source": [
    "yelp_with_categories = yelp_with_categories.drop(\"location\", axis=1)"
   ]
  },
  {
   "cell_type": "markdown",
   "id": "4e334112",
   "metadata": {},
   "source": [
    "The `coordinates` column tells us the latitude and longitude of the restaurant. The other column related to location is the `distance` column. This column tells us how far away the restaurant is from the location the user searched in (in our case this is the city). We'll keep both of these columns for now until we determine whether or not there's a correlation between this value and our target column for the analysis."
   ]
  },
  {
   "cell_type": "code",
   "execution_count": 767,
   "id": "6d39d727",
   "metadata": {},
   "outputs": [],
   "source": [
    "# Next, we'll make latitude and longitude columns out of the coordinates column.\n",
    "coordinates = yelp_with_categories[\"coordinates\"].apply(pd.Series)\n",
    "yelp_with_categories = pd.concat([yelp_with_categories, coordinates], axis=1)\n",
    "yelp_with_categories = yelp_with_categories.drop(\"coordinates\", axis=1)"
   ]
  },
  {
   "cell_type": "markdown",
   "id": "90eba20b",
   "metadata": {},
   "source": [
    "The next column that we'll deal with is the `transactions` column. This column contains a list that has up to three values: `delivery`, `pickup` and `restaurant reservation`. The row for each restaurant will contain only those transactions that the restaurant engages in.\n",
    "\n",
    "We'll split this into three columns, one for each transaction and, in each column, a restaurant will receive a 1 if it engages in this kind of transaction and a 0 if it doesn't."
   ]
  },
  {
   "cell_type": "code",
   "execution_count": 768,
   "id": "99432f7b",
   "metadata": {},
   "outputs": [],
   "source": [
    "temp_df = yelp_with_categories[\"transactions\"].apply(pd.Series)\n",
    "temp_df = pd.get_dummies(temp_df)\n",
    "for i in [\"delivery\", \"pickup\", \"restaurant_reservation\"]:\n",
    "    temp_df[i] = temp_df[\"0_\" + i] + temp_df[\"1_\" + i] + temp_df[\"2_\" + i]\n",
    "    temp_df = temp_df.drop([\"0_\" + i, \"1_\"+ i, \"2_\" + i], axis=1)\n",
    "\n",
    "yelp_with_categories = pd.concat([yelp_with_categories, temp_df], axis =1)\n",
    "yelp_with_categories = yelp_with_categories.drop(\"transactions\", axis=1)"
   ]
  },
  {
   "cell_type": "markdown",
   "id": "86c713ef",
   "metadata": {},
   "source": [
    "Next, we'll look at the `price` column which uses a system of dollar signs to indicate price."
   ]
  },
  {
   "cell_type": "code",
   "execution_count": 769,
   "id": "b4a190a5",
   "metadata": {},
   "outputs": [
    {
     "data": {
      "text/plain": [
       "$$      5287\n",
       "$       2132\n",
       "$$$      302\n",
       "$$$$      61\n",
       "Name: price, dtype: int64"
      ]
     },
     "execution_count": 769,
     "metadata": {},
     "output_type": "execute_result"
    }
   ],
   "source": [
    "yelp_with_categories[\"price\"].value_counts()"
   ]
  },
  {
   "cell_type": "markdown",
   "id": "003bb430",
   "metadata": {},
   "source": [
    "We'll just need to change this column so that it contains only numerical values."
   ]
  },
  {
   "cell_type": "code",
   "execution_count": 770,
   "id": "806bdcbe",
   "metadata": {},
   "outputs": [],
   "source": [
    "def price_change(dollar):\n",
    "    if dollar == \"$\":\n",
    "        return 1\n",
    "    elif dollar == \"$$\":\n",
    "        return 2\n",
    "    elif dollar == \"$$$\":\n",
    "        return 3\n",
    "    elif dollar == \"$$$$\":\n",
    "        return 4\n",
    "\n",
    "\n",
    "yelp_with_categories[\"price\"] = yelp_with_categories[\"price\"].apply(price_change)"
   ]
  },
  {
   "cell_type": "markdown",
   "id": "12d95fcb",
   "metadata": {},
   "source": [
    "Before we finish, we'll check the dataset for null values and either replace them or drop the columns that contain null values."
   ]
  },
  {
   "cell_type": "code",
   "execution_count": 771,
   "id": "44114ac4",
   "metadata": {},
   "outputs": [
    {
     "data": {
      "text/plain": [
       "name                         0\n",
       "review_count                 0\n",
       "rating                       0\n",
       "price                     3218\n",
       "distance                     0\n",
       "category_1                   0\n",
       "category_2                3037\n",
       "category_3                6184\n",
       "latitude                     0\n",
       "longitude                    0\n",
       "delivery                     0\n",
       "pickup                       0\n",
       "restaurant_reservation       0\n",
       "dtype: int64"
      ]
     },
     "execution_count": 771,
     "metadata": {},
     "output_type": "execute_result"
    }
   ],
   "source": [
    "yelp_with_categories.isnull().sum()"
   ]
  },
  {
   "cell_type": "markdown",
   "id": "853918f0",
   "metadata": {},
   "source": [
    "Three columns contain null values here: `price`, `category_2` and `category_3`. The category columns can simply be dropped. We already have information on the category of each restaurant and so we can safely drop these columns."
   ]
  },
  {
   "cell_type": "code",
   "execution_count": 772,
   "id": "647aaea1",
   "metadata": {},
   "outputs": [],
   "source": [
    "yelp_with_categories = yelp_with_categories.drop([\"category_2\", \"category_3\"], axis=1)"
   ]
  },
  {
   "cell_type": "markdown",
   "id": "e83d07aa",
   "metadata": {},
   "source": [
    "The `price` column has quite a lot of null values, but this information will likely be important for our analysis so we don't want to lose it. Let's look again at some of the values in this column. "
   ]
  },
  {
   "cell_type": "code",
   "execution_count": 773,
   "id": "4d389519",
   "metadata": {},
   "outputs": [
    {
     "data": {
      "text/plain": [
       "2.0    0.679388\n",
       "1.0    0.273966\n",
       "3.0    0.038808\n",
       "4.0    0.007839\n",
       "Name: price, dtype: float64"
      ]
     },
     "execution_count": 773,
     "metadata": {},
     "output_type": "execute_result"
    }
   ],
   "source": [
    "yelp_with_categories[\"price\"].value_counts(normalize=True)"
   ]
  },
  {
   "cell_type": "markdown",
   "id": "afa1a6bf",
   "metadata": {},
   "source": [
    "We'll aim to fill the null values in the `price` column such that these proportions stay roughly the same. On Yelp, users are responsible for reporting price values and so, a null value means that no user has reported what the price of this location is. We have quite a lot of data here and so, it's fair to assume that these proportions will likely hold for the rest of the restaurants in our dataset.\n",
    "\n",
    "We can use the `ffill` method, which fills each null value with the value the precedes it."
   ]
  },
  {
   "cell_type": "code",
   "execution_count": 774,
   "id": "3bc1f01b",
   "metadata": {},
   "outputs": [
    {
     "data": {
      "text/plain": [
       "2.0    0.673818\n",
       "1.0    0.278818\n",
       "3.0    0.039091\n",
       "4.0    0.008273\n",
       "Name: price, dtype: float64"
      ]
     },
     "execution_count": 774,
     "metadata": {},
     "output_type": "execute_result"
    }
   ],
   "source": [
    "yelp_with_categories[\"price\"] = yelp_with_categories[\"price\"].fillna(method='ffill')\n",
    "yelp_with_categories[\"price\"].value_counts(normalize=True)"
   ]
  },
  {
   "cell_type": "code",
   "execution_count": 775,
   "id": "659300da",
   "metadata": {},
   "outputs": [
    {
     "data": {
      "text/plain": [
       "name                      0\n",
       "review_count              0\n",
       "rating                    0\n",
       "price                     0\n",
       "distance                  0\n",
       "category_1                0\n",
       "latitude                  0\n",
       "longitude                 0\n",
       "delivery                  0\n",
       "pickup                    0\n",
       "restaurant_reservation    0\n",
       "dtype: int64"
      ]
     },
     "execution_count": 775,
     "metadata": {},
     "output_type": "execute_result"
    }
   ],
   "source": [
    "yelp_with_categories.isnull().sum()"
   ]
  },
  {
   "cell_type": "markdown",
   "id": "08dab3fd",
   "metadata": {},
   "source": [
    "Now that our dataset is clean, we can start to select some features for our algorithm."
   ]
  },
  {
   "cell_type": "markdown",
   "id": "694ecc9b",
   "metadata": {},
   "source": [
    "## Designing and Selecting Features"
   ]
  },
  {
   "cell_type": "markdown",
   "id": "661e9915",
   "metadata": {},
   "source": [
    "Before we look at the correlation of different columns in the dataset, let's look at our columns and make sure all of them are numeric columns."
   ]
  },
  {
   "cell_type": "code",
   "execution_count": 813,
   "id": "ab8c2c9e",
   "metadata": {},
   "outputs": [
    {
     "data": {
      "text/html": [
       "<div>\n",
       "<style scoped>\n",
       "    .dataframe tbody tr th:only-of-type {\n",
       "        vertical-align: middle;\n",
       "    }\n",
       "\n",
       "    .dataframe tbody tr th {\n",
       "        vertical-align: top;\n",
       "    }\n",
       "\n",
       "    .dataframe thead th {\n",
       "        text-align: right;\n",
       "    }\n",
       "</style>\n",
       "<table border=\"1\" class=\"dataframe\">\n",
       "  <thead>\n",
       "    <tr style=\"text-align: right;\">\n",
       "      <th></th>\n",
       "      <th>name</th>\n",
       "      <th>review_count</th>\n",
       "      <th>rating</th>\n",
       "      <th>price</th>\n",
       "      <th>distance</th>\n",
       "      <th>category_1</th>\n",
       "      <th>latitude</th>\n",
       "      <th>longitude</th>\n",
       "      <th>delivery</th>\n",
       "      <th>pickup</th>\n",
       "      <th>restaurant_reservation</th>\n",
       "    </tr>\n",
       "  </thead>\n",
       "  <tbody>\n",
       "    <tr>\n",
       "      <th>0</th>\n",
       "      <td>Raku</td>\n",
       "      <td>615</td>\n",
       "      <td>4.5</td>\n",
       "      <td>2.0</td>\n",
       "      <td>2522.267046</td>\n",
       "      <td>Sushi &amp; Japanese</td>\n",
       "      <td>40.727280</td>\n",
       "      <td>-74.002520</td>\n",
       "      <td>1</td>\n",
       "      <td>1</td>\n",
       "      <td>0</td>\n",
       "    </tr>\n",
       "    <tr>\n",
       "      <th>1</th>\n",
       "      <td>Casa Birria NYC</td>\n",
       "      <td>62</td>\n",
       "      <td>5.0</td>\n",
       "      <td>1.0</td>\n",
       "      <td>8837.339832</td>\n",
       "      <td>Street Vendors</td>\n",
       "      <td>40.778824</td>\n",
       "      <td>-73.953986</td>\n",
       "      <td>1</td>\n",
       "      <td>0</td>\n",
       "      <td>0</td>\n",
       "    </tr>\n",
       "    <tr>\n",
       "      <th>2</th>\n",
       "      <td>LaoJie hotpot</td>\n",
       "      <td>77</td>\n",
       "      <td>4.5</td>\n",
       "      <td>2.0</td>\n",
       "      <td>11716.253609</td>\n",
       "      <td>Korean</td>\n",
       "      <td>40.600120</td>\n",
       "      <td>-73.991350</td>\n",
       "      <td>0</td>\n",
       "      <td>0</td>\n",
       "      <td>0</td>\n",
       "    </tr>\n",
       "    <tr>\n",
       "      <th>3</th>\n",
       "      <td>Omusubi Gonbei</td>\n",
       "      <td>73</td>\n",
       "      <td>4.5</td>\n",
       "      <td>1.0</td>\n",
       "      <td>5244.026713</td>\n",
       "      <td>Sushi &amp; Japanese</td>\n",
       "      <td>40.750701</td>\n",
       "      <td>-73.976961</td>\n",
       "      <td>1</td>\n",
       "      <td>0</td>\n",
       "      <td>0</td>\n",
       "    </tr>\n",
       "    <tr>\n",
       "      <th>4</th>\n",
       "      <td>Time Out Market New York</td>\n",
       "      <td>327</td>\n",
       "      <td>3.5</td>\n",
       "      <td>2.0</td>\n",
       "      <td>288.119008</td>\n",
       "      <td>Food Court</td>\n",
       "      <td>40.703429</td>\n",
       "      <td>-73.992146</td>\n",
       "      <td>0</td>\n",
       "      <td>0</td>\n",
       "      <td>0</td>\n",
       "    </tr>\n",
       "  </tbody>\n",
       "</table>\n",
       "</div>"
      ],
      "text/plain": [
       "                       name  review_count  rating  price      distance  \\\n",
       "0                      Raku           615     4.5    2.0   2522.267046   \n",
       "1           Casa Birria NYC            62     5.0    1.0   8837.339832   \n",
       "2             LaoJie hotpot            77     4.5    2.0  11716.253609   \n",
       "3            Omusubi Gonbei            73     4.5    1.0   5244.026713   \n",
       "4  Time Out Market New York           327     3.5    2.0    288.119008   \n",
       "\n",
       "         category_1   latitude  longitude  delivery  pickup  \\\n",
       "0  Sushi & Japanese  40.727280 -74.002520         1       1   \n",
       "1    Street Vendors  40.778824 -73.953986         1       0   \n",
       "2            Korean  40.600120 -73.991350         0       0   \n",
       "3  Sushi & Japanese  40.750701 -73.976961         1       0   \n",
       "4        Food Court  40.703429 -73.992146         0       0   \n",
       "\n",
       "   restaurant_reservation  \n",
       "0                       0  \n",
       "1                       0  \n",
       "2                       0  \n",
       "3                       0  \n",
       "4                       0  "
      ]
     },
     "execution_count": 813,
     "metadata": {},
     "output_type": "execute_result"
    }
   ],
   "source": [
    "clean_yelp = yelp_with_categories\n",
    "clean_yelp.head()"
   ]
  },
  {
   "cell_type": "markdown",
   "id": "f3cbe996",
   "metadata": {},
   "source": [
    "Before we proceed, the `category_1` column will need to be adjusted into a numeric column. Let's look at the values in this column and see if there's anything that needs changing before we create dummy variables."
   ]
  },
  {
   "cell_type": "code",
   "execution_count": 814,
   "id": "4a2ac7d8",
   "metadata": {},
   "outputs": [
    {
     "data": {
      "text/plain": [
       "American              867\n",
       "Bars                  784\n",
       "Mexican               655\n",
       "Pizza                 536\n",
       "Cafes                 470\n",
       "Sandwiches            402\n",
       "Sushi & Japanese      385\n",
       "Fast Food             331\n",
       "Seafood               303\n",
       "Breakfast & Brunch    301\n",
       "Name: category_1, dtype: int64"
      ]
     },
     "execution_count": 814,
     "metadata": {},
     "output_type": "execute_result"
    }
   ],
   "source": [
    "clean_yelp[\"category_1\"].value_counts().head(10)"
   ]
  },
  {
   "cell_type": "markdown",
   "id": "24b1ae8c",
   "metadata": {},
   "source": [
    "There are quite a few categories here so, in order to make our algorithm effective, let's try to group together some redundant or similar categories."
   ]
  },
  {
   "cell_type": "code",
   "execution_count": 815,
   "id": "13e68e15",
   "metadata": {},
   "outputs": [],
   "source": [
    "clean_yelp[\"category_1\"] = clean_yelp[\"category_1\"].replace(\"American (New)\", \"American\")\n",
    "clean_yelp[\"category_1\"] = clean_yelp[\"category_1\"].replace(\"American (Traditional)\", \"American\")\n",
    "\n",
    "clean_yelp[\"category_1\"] = clean_yelp[\"category_1\"].replace(\"Delis\", \"Sandwiches\")\n",
    "\n",
    "clean_yelp[\"category_1\"] = clean_yelp[\"category_1\"].replace(\"Tacos\", \"Mexican\")\n",
    "clean_yelp[\"category_1\"] = clean_yelp[\"category_1\"].replace(\"Empanadas\", \"Mexican\")\n",
    "\n",
    "clean_yelp[\"category_1\"] = clean_yelp[\"category_1\"].replace(\"Coffee & Tea\", \"Cafes\")\n",
    "clean_yelp[\"category_1\"] = clean_yelp[\"category_1\"].replace(\"Coffee Roasteries\", \"Cafes\")\n",
    "\n",
    "clean_yelp[\"category_1\"] = clean_yelp[\"category_1\"].replace(\"Burgers\", \"Fast Food\")\n",
    "\n",
    "clean_yelp[\"category_1\"] = clean_yelp[\"category_1\"].replace(\"Sushi Bars\", \"Sushi & Japanese\")\n",
    "clean_yelp[\"category_1\"] = clean_yelp[\"category_1\"].replace(\"Japanese\", \"Sushi & Japanese\")\n",
    "\n",
    "clean_yelp[\"category_1\"] = clean_yelp[\"category_1\"].replace(\"Food Trucks\", \"Street Vendors\")\n",
    "clean_yelp[\"category_1\"] = clean_yelp[\"category_1\"].replace(\"Food Stands\", \"Street Vendors\")\n",
    "\n",
    "clean_yelp[\"category_1\"] = clean_yelp[\"category_1\"].replace(\"Cocktail Bars\", \"Bars\")\n",
    "clean_yelp[\"category_1\"] = clean_yelp[\"category_1\"].replace(\"Sports Bars\", \"Bars\")\n",
    "clean_yelp[\"category_1\"] = clean_yelp[\"category_1\"].replace(\"Wine Bars\", \"Bars\")\n",
    "clean_yelp[\"category_1\"] = clean_yelp[\"category_1\"].replace(\"Breweries\", \"Bars\")\n",
    "clean_yelp[\"category_1\"] = clean_yelp[\"category_1\"].replace(\"Dive Bars\", \"Bars\")\n",
    "clean_yelp[\"category_1\"] = clean_yelp[\"category_1\"].replace(\"Tapas Bars\", \"Bars\")\n",
    "clean_yelp[\"category_1\"] = clean_yelp[\"category_1\"].replace(\"Distilleries\", \"Bars\")\n",
    "clean_yelp[\"category_1\"] = clean_yelp[\"category_1\"].replace(\"Brewpubs\", \"Bars\")\n",
    "clean_yelp[\"category_1\"] = clean_yelp[\"category_1\"].replace(\"Pubs\", \"Bars\")\n",
    "clean_yelp[\"category_1\"] = clean_yelp[\"category_1\"].replace(\"Gastropubs\", \"Bars\")\n",
    "clean_yelp[\"category_1\"] = clean_yelp[\"category_1\"].replace(\"Beer Bar\", \"Bars\")\n",
    "clean_yelp[\"category_1\"] = clean_yelp[\"category_1\"].replace(\"Irish Pub\", \"Bars\")\n",
    "clean_yelp[\"category_1\"] = clean_yelp[\"category_1\"].replace(\"Whiskey Bars\", \"Bars\")\n",
    "clean_yelp[\"category_1\"] = clean_yelp[\"category_1\"].replace(\"Izakaya\", \"Bars\")\n",
    "\n",
    "clean_yelp[\"category_1\"] = clean_yelp[\"category_1\"].replace(\"Hot Pot\", \"Korean\")"
   ]
  },
  {
   "cell_type": "markdown",
   "id": "7558a435",
   "metadata": {},
   "source": [
    "Now that we've done some clean up on this column we can create our dummy variables."
   ]
  },
  {
   "cell_type": "code",
   "execution_count": 816,
   "id": "35966b4a",
   "metadata": {},
   "outputs": [],
   "source": [
    "category_df = pd.get_dummies(clean_yelp[\"category_1\"])\n",
    "clean_yelp = pd.concat([clean_yelp, category_df], axis=1)\n",
    "clean_yelp = clean_yelp.drop(\"category_1\", axis=1)"
   ]
  },
  {
   "cell_type": "markdown",
   "id": "79cfc86c",
   "metadata": {},
   "source": [
    "Next, let's look at the correlation coefficients for the price column to determine which columns to drop."
   ]
  },
  {
   "cell_type": "code",
   "execution_count": 817,
   "id": "95995a27",
   "metadata": {},
   "outputs": [],
   "source": [
    "yelp_corr = clean_yelp.drop(\"name\", axis=1).corr()"
   ]
  },
  {
   "cell_type": "code",
   "execution_count": 818,
   "id": "62133445",
   "metadata": {},
   "outputs": [
    {
     "data": {
      "text/plain": [
       "rating            1.000000\n",
       "Fast Food         0.118915\n",
       "delivery          0.106384\n",
       "Pizza             0.088621\n",
       "distance          0.081267\n",
       "pickup            0.077526\n",
       "Cafes             0.071899\n",
       "Street Vendors    0.066234\n",
       "American          0.064514\n",
       "Bakeries          0.052890\n",
       "Name: rating, dtype: float64"
      ]
     },
     "execution_count": 818,
     "metadata": {},
     "output_type": "execute_result"
    }
   ],
   "source": [
    "import numpy as np\n",
    "np.absolute(yelp_corr[\"rating\"]).sort_values(ascending=False).head(10)"
   ]
  },
  {
   "cell_type": "markdown",
   "id": "20571872",
   "metadata": {},
   "source": [
    "Let's drop some of these columns which have a particularly low correlation in order to simplify our analysis."
   ]
  },
  {
   "cell_type": "code",
   "execution_count": 819,
   "id": "9068bb7a",
   "metadata": {},
   "outputs": [],
   "source": [
    "drop_cols = yelp_corr[np.absolute(yelp_corr[\"rating\"]) < 0.05].index"
   ]
  },
  {
   "cell_type": "code",
   "execution_count": 820,
   "id": "e91d0334",
   "metadata": {},
   "outputs": [],
   "source": [
    "clean_yelp = clean_yelp.drop(drop_cols, axis=1)\n",
    "clean_yelp = clean_yelp.reset_index()\n",
    "clean_yelp = clean_yelp.drop(\"index\", axis=1)"
   ]
  },
  {
   "cell_type": "markdown",
   "id": "ea25cc4a",
   "metadata": {},
   "source": [
    "# Making Predictions"
   ]
  },
  {
   "cell_type": "markdown",
   "id": "384a1431",
   "metadata": {},
   "source": [
    "First, we will need to select an error metric as well as a model. In order to do this, let's first look at our target column."
   ]
  },
  {
   "cell_type": "code",
   "execution_count": 821,
   "id": "7eb8881f",
   "metadata": {},
   "outputs": [
    {
     "data": {
      "text/plain": [
       "4.0    4167\n",
       "4.5    3893\n",
       "3.5    1151\n",
       "5.0    1136\n",
       "3.0     387\n",
       "2.5     153\n",
       "2.0      59\n",
       "1.5      32\n",
       "1.0      22\n",
       "Name: rating, dtype: int64"
      ]
     },
     "execution_count": 821,
     "metadata": {},
     "output_type": "execute_result"
    }
   ],
   "source": [
    "clean_yelp[\"rating\"].value_counts()"
   ]
  },
  {
   "cell_type": "markdown",
   "id": "ee1360c3",
   "metadata": {},
   "source": [
    "Our target column will be the `rating` column and I've printed the value counts for this column above. While the column is a numeric datatype, it's important to note that the values are not continuous. The `rating` column is an ordinal variable. For our purposes, however, we will treat this column as if it contains continuous values. In the end, as needed, we will round values in order to get back values that look like the original ratings.\n",
    "\n",
    "To simplify things, we'll multiply all the values in the `rating` column by 2. This way, when we round off our values at the end, we can just round to the nearest whole number, instead of rounding to the nearest 0.5."
   ]
  },
  {
   "cell_type": "code",
   "execution_count": 822,
   "id": "136148e9",
   "metadata": {},
   "outputs": [],
   "source": [
    "clean_yelp[\"rating\"] = clean_yelp[\"rating\"]*2"
   ]
  },
  {
   "cell_type": "code",
   "execution_count": 823,
   "id": "082b38e9",
   "metadata": {},
   "outputs": [],
   "source": [
    "from sklearn.metrics import mean_squared_error\n",
    "from sklearn.linear_model import LinearRegression\n",
    "from sklearn.model_selection import train_test_split"
   ]
  },
  {
   "cell_type": "markdown",
   "id": "048a165b",
   "metadata": {},
   "source": [
    "Before we split the dataset into train and test sets, recall that our dataset was taken from one city at a time. This could cause problems when we split the data set so we'll randomize the index."
   ]
  },
  {
   "cell_type": "code",
   "execution_count": 824,
   "id": "e8e7a178",
   "metadata": {},
   "outputs": [],
   "source": [
    "clean_yelp = clean_yelp.sample(frac=1).reset_index(drop=True)"
   ]
  },
  {
   "cell_type": "markdown",
   "id": "9cf9dfeb",
   "metadata": {},
   "source": [
    "To simplify things, we'll also group our columns together and label them as our feature columns."
   ]
  },
  {
   "cell_type": "code",
   "execution_count": 825,
   "id": "2b919200",
   "metadata": {},
   "outputs": [],
   "source": [
    "features = clean_yelp.columns.drop([\"name\", \"rating\"])"
   ]
  },
  {
   "cell_type": "markdown",
   "id": "6cb57209",
   "metadata": {},
   "source": [
    "Next, to make our process easier, we'll create a function that splits the dataset into train and test sets, uses linear regression to make predictions and return the root mean squared error for the predictions. The inputs to the function will be the data, the size of the test set as well as the feature columns and the target column."
   ]
  },
  {
   "cell_type": "code",
   "execution_count": 832,
   "id": "2a353aea",
   "metadata": {},
   "outputs": [
    {
     "data": {
      "text/plain": [
       "1.1591532960037527"
      ]
     },
     "execution_count": 832,
     "metadata": {},
     "output_type": "execute_result"
    }
   ],
   "source": [
    "def lr_train_test(data, size, features, target):\n",
    "    x_train, x_test, y_train, y_test = train_test_split(data[features], data[target], test_size=size, random_state=1)\n",
    "    \n",
    "    lr = LinearRegression()\n",
    "    lr.fit(x_train, y_train)\n",
    "    \n",
    "    # We round the predictions so that they fit the categories of the rating column.\n",
    "    predictions = lr.predict(x_test)\n",
    "    predictions = np.round(predictions)\n",
    "    \n",
    "    return (mean_squared_error(y_test, predictions))**(1/2)\n",
    "\n",
    "lr_train_test(clean_yelp, 0.2, features, \"rating\")"
   ]
  },
  {
   "cell_type": "markdown",
   "id": "beb7066f",
   "metadata": {},
   "source": [
    "Next, we'll create a new function that uses k-fold analysis."
   ]
  },
  {
   "cell_type": "code",
   "execution_count": 831,
   "id": "4eb3b8a0",
   "metadata": {},
   "outputs": [
    {
     "data": {
      "text/plain": [
       "1.1485864361195726"
      ]
     },
     "execution_count": 831,
     "metadata": {},
     "output_type": "execute_result"
    }
   ],
   "source": [
    "from sklearn.model_selection import KFold\n",
    "def kfolds(X, y, n):\n",
    "    rmses = []\n",
    "    skf = KFold(n_splits=n)\n",
    "    for train_index, test_index in skf.split(X, y):\n",
    "        x_train, x_test = X.loc[train_index], X.loc[test_index]\n",
    "        y_train, y_test = y.loc[train_index], y.loc[test_index]\n",
    "        \n",
    "        lr = LinearRegression()\n",
    "        lr.fit(x_train, y_train)\n",
    "        prediction = lr.predict(x_test)\n",
    "        prediction = np.round(prediction)\n",
    "        \n",
    "        rmses.append((mean_squared_error(y_test, prediction))**(1/2))\n",
    "    \n",
    "    return sum(rmses)/len(rmses)\n",
    "\n",
    "kfolds(clean_yelp[features], clean_yelp['rating'], 3)"
   ]
  }
 ],
 "metadata": {
  "kernelspec": {
   "display_name": "Python 3 (ipykernel)",
   "language": "python",
   "name": "python3"
  },
  "language_info": {
   "codemirror_mode": {
    "name": "ipython",
    "version": 3
   },
   "file_extension": ".py",
   "mimetype": "text/x-python",
   "name": "python",
   "nbconvert_exporter": "python",
   "pygments_lexer": "ipython3",
   "version": "3.9.7"
  }
 },
 "nbformat": 4,
 "nbformat_minor": 5
}
